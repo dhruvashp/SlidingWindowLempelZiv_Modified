{
 "cells": [
  {
   "cell_type": "code",
   "execution_count": 66,
   "metadata": {},
   "outputs": [],
   "source": [
    "import numpy as np\n",
    "import math\n",
    "\n",
    "f = open('principia.txt','r', encoding = 'utf-8-sig')\n",
    "content = f.read()\n",
    "f.close()\n",
    "arr_char = list(content)"
   ]
  },
  {
   "cell_type": "code",
   "execution_count": 67,
   "metadata": {
    "scrolled": true
   },
   "outputs": [
    {
     "name": "stdout",
     "output_type": "stream",
     "text": [
      "['C', 'u', 'm', ' ', 'V', 'e', 't', 'e', 'r', 'e', 's', ' ', '_', 'M', 'e', 'c', 'h', 'a', 'n', 'i', 'c', 'a', 'm', '_', ' ', '(', 'u', 't', 'i', ' ', 'A', 'u', 't', 'h', 'o', 'r', ' ', 'e', 's', 't', ' ', '_', 'P', 'a', 'p', 'p', 'u', 's', '_', ')', ' ', 'i', 'n', ' ', 'v', 'e', 'r', 'u', 'm', ' ', 'N', 'a', 't', 'u', 'r', 'a', 'l', 'i', 'u', 'm', '\\n', 'i', 'n', 'v', 'e', 's', 't', 'i', 'g', 'a', 't', 'i', 'o', 'n', 'e', ' ', 'm', 'a', 'x', 'i', 'm', 'i', ' ', 'f', 'e', 'c', 'e', 'r', 'i', 'n', 't', ',', ' ', '&', ' ', 'r', 'e', 'c', 'e', 'n', 't', 'i', 'o', 'r', 'e', 's', ',', ' ', 'm', 'i', 's', 's', 'i', 's', ' ', 'f', 'o', 'r', 'm', 'i', 's', '\\n', 's', 'u', 'b', 's', 't', 'a', 'n', 't', 'i', 'a', 'l', 'i', 'b', 'u', 's', ' ', '&', ' ', 'q', 'u', 'a', 'l', 'i', 't', 'a', 't', 'i', 'b', 'u', 's', ' ', 'o', 'c', 'c', 'u', 'l', 't', 'i', 's', ',', ' ', 'P', 'h', 'æ', 'n', 'o', 'm', 'e', 'n', 'a', ' ', 'N', 'a', 't', 'u', 'r', 'æ', ' ', 'a', 'd', ' ', 'l', 'e', 'g', 'e', 's', '\\n', 'M', 'a', 't', 'h', 'e', 'm', 'a', 't', 'i', 'c', 'a', 's', ' ', 'r', 'e', 'v', 'o', 'c', 'a', 'r', 'e', ' ', 'a', 'g', 'g', 'r', 'e', 's', 's', 'i', ' ', 's', 'i', 'n', 't', ':', ' ', 'V', 'i', 's', 'u', 'm', ' ', 'e', 's', 't', ' ', 'i', 'n', ' ', 'h', 'o', 'c', ' ', 'T', 'r', 'a', 'c', 't', 'a', 't', 'u', ' ', '_', 'M', 'a', 't', 'h', 'e', 's', 'i', 'n', '_', '\\n', 'e', 'x', 'c', 'o', 'l', 'e', 'r', 'e', ' ', 'q', 'u', 'a', 't', 'e', 'n', 'u', 's', ' ', 'e', 'a', ' ', 'a', 'd', ' ', '_', 'P', 'h', 'i', 'l', 'o', 's', 'o', 'p', 'h', 'i', 'a', 'm', '_', ' ', 's', 'p', 'e', 'c', 't', 'a', 't', '.', ' ', '_', 'M', 'e', 'c', 'h', 'a', 'n', 'i', 'c', 'a', 'm', '_', ' ', 'v', 'e', 'r', 'o', ' ', 'd', 'u', 'p', 'l', 'i', 'c', 'e', 'm', '\\n', 'V', 'e', 't', 'e', 'r', 'e', 's', ' ', 'c', 'o', 'n', 's', 't', 'i', 't', 'u', 'e', 'r', 'u', 'n', 't', ':', ' ', '_', 'R', 'a', 't', 'i', 'o', 'n', 'a', 'l', 'e', 'm', '_', ' ', 'q', 'u', 'æ', ' ', 'p', 'e', 'r', ' ', 'D', 'e', 'm', 'o', 'n', 's', 't', 'r', 'a', 't', 'i', 'o', 'n', 'e', 's', ' ', 'a', 'c', 'c', 'u', 'r', 'a', 't', 'e', '\\n', 'p', 'r', 'o', 'c', 'e', 'd', 'i', 't', ',', ' ', '&', ' ', '_', 'P', 'r', 'a', 'c', 't', 'i', 'c', 'a', 'm', '_', '.', ' ', 'A', 'd', ' ', 'p', 'r', 'a', 'c', 't', 'i', 'c', 'a', 'm', ' ', 's', 'p', 'e', 'c', 't', 'a', 'n', 't', ' ', 'A', 'r', 't', 'e', 's', ' ', 'o', 'm', 'n', 'e', 's', ' ', 'M', 'a', 'n', 'u', 'a', 'l', 'e', 's', ',', ' ', 'a', '\\n', 'q', 'u', 'i', 'b', 'u', 's', ' ', 'u', 't', 'i', 'q', ';']\n"
     ]
    }
   ],
   "source": [
    "print(arr_char[2000:2500])"
   ]
  },
  {
   "cell_type": "code",
   "execution_count": 68,
   "metadata": {},
   "outputs": [
    {
     "name": "stdout",
     "output_type": "stream",
     "text": [
      "Percentage Compressed =  2.4353114735510144 %\n",
      "Percentage Compressed =  6.084237724228026 %\n",
      "Percentage Compressed =  10.261142493887295 %\n",
      "Percentage Compressed =  14.729358235294827 %\n",
      "Percentage Compressed =  19.051978803658816 %\n",
      "Percentage Compressed =  23.407892054508324 %\n",
      "Percentage Compressed =  27.876952175544112 %\n",
      "Percentage Compressed =  32.62091817840776 %\n",
      "Percentage Compressed =  37.40517315210534 %\n",
      "Percentage Compressed =  42.200887563614955 %\n",
      "Percentage Compressed =  46.58780160938757 %\n",
      "Percentage Compressed =  50.7813527202896 %\n",
      "Percentage Compressed =  55.33219703960503 %\n",
      "Percentage Compressed =  60.40390296389312 %\n",
      "Percentage Compressed =  64.9063763930756 %\n",
      "Percentage Compressed =  69.23756138338332 %\n",
      "Percentage Compressed =  73.69552394359062 %\n",
      "Percentage Compressed =  78.00029191410005 %\n",
      "Percentage Compressed =  82.1750254218581 %\n",
      "Percentage Compressed =  86.50958793067885 %\n",
      "Percentage Compressed =  90.59361094122997 %\n",
      "Percentage Compressed =  94.24977473157774 %\n",
      "Percentage Compressed =  97.92523862771422 %\n"
     ]
    }
   ],
   "source": [
    "# All spaces, blanks, line changes, will be treated equally, irrespective of their position in the text. They will also be\n",
    "# treated as if they are a normal part of the text.\n",
    "\n",
    "# LZ Sliding Window  (NOTE : Obviously we presume that the text to compress will have at least one character)\n",
    "\n",
    "w_size = 99999                  # window size                          (value range allowed : [1,2,3,....,999999999]) (max word length = 9, min = 1)\n",
    "length_max = 99999               # max match length permitted           (value range allowed : [1,2,3,....,999999999]) (max word length = 9, min = 1)\n",
    "\n",
    "encode_char = []                   # initialize empty character array where encoded string will be stored, and appended\n",
    "encode_char.append(0)              # for the first character flag is 0 always\n",
    "encode_char.append(arr_char[0])    # the first character is copied as is\n",
    "\n",
    "status_tracker = 0\n",
    "i = 1\n",
    "while (i <= len(arr_char)-1):                     \n",
    "    \n",
    "    status_tracker = status_tracker + 1\n",
    "    \n",
    "    if status_tracker % 5000 == 0:\n",
    "        percentage_compressed = (i/len(arr_char))*100\n",
    "        print('Percentage Compressed = ',percentage_compressed,'%')\n",
    "    \n",
    "    \n",
    "    if i-w_size < 0:\n",
    "        win_end = 0\n",
    "    else:\n",
    "        win_end = i-w_size\n",
    "    \n",
    "    win_begin = i-1\n",
    "    \n",
    "    \n",
    "    if i+length_max-1 <= len(arr_char)-1:\n",
    "        loc_length_max = length_max\n",
    "    else:\n",
    "        loc_length_max = len(arr_char)-i\n",
    "    \n",
    "    match_length_vector = np.zeros(win_begin-win_end+1)                 \n",
    "    vec_count = -1\n",
    "    \n",
    "    for j in range(win_begin,win_end-1,-1):            \n",
    "        \n",
    "        vec_count = vec_count + 1\n",
    "        match_length = 0\n",
    "        \n",
    "        for l in range(loc_length_max):                    \n",
    "            \n",
    "            if arr_char[j+l] == arr_char[i+l]:\n",
    "                match_length = match_length + 1\n",
    "            else:\n",
    "                break\n",
    "                \n",
    "        match_length_vector[vec_count] = match_length\n",
    "        \n",
    "    if np.all(match_length_vector==0):\n",
    "        encode_char.append(0)\n",
    "        encode_char.append(arr_char[i])\n",
    "        jump = 1\n",
    "    \n",
    "    \n",
    "    elif np.max(match_length_vector) == 1:                                     \n",
    "        encode_char.append(0)\n",
    "        encode_char.append(arr_char[i])\n",
    "        jump = 1\n",
    "    \n",
    "    \n",
    "    elif (np.max(match_length_vector) == 2) and ((int(np.argmax(match_length_vector)) + 1) >= 10) :     # condition for encoding to be optimal                                \n",
    "        encode_char.append(0)\n",
    "        encode_char.append(arr_char[i])\n",
    "        encode_char.append(0)\n",
    "        encode_char.append(arr_char[i+1])\n",
    "        jump = 2\n",
    "    \n",
    "    elif (np.max(match_length_vector) == 3) and ((int(np.argmax(match_length_vector)) + 1) >= 1000):     # condition for encoding to be optimal                                  \n",
    "        encode_char.append(0)\n",
    "        encode_char.append(arr_char[i])\n",
    "        encode_char.append(0)\n",
    "        encode_char.append(arr_char[i+1])\n",
    "        encode_char.append(0)\n",
    "        encode_char.append(arr_char[i+2])\n",
    "        jump = 3 \n",
    "        \n",
    "\n",
    "    else:\n",
    "        # encode_char.append(1)                                                # with how we have defined our tuples this specification won't be needed, as such\n",
    "        position_match = int(np.argmax(match_length_vector)) + 1               # in case two different positions in the window give us same maximum match length, we select the one that is closest to our current position (current position of the encoding pointer)\n",
    "        encode_char.append(position_match)\n",
    "        final_match_length = int(np.max(match_length_vector))                  # these two (position and match length) will be int by default, but may be in the floating format (5.0 instead of 5 for example), to make them exactly integral, without their values being affected, this int is added\n",
    "        encode_char.append(final_match_length)\n",
    "        jump = final_match_length\n",
    "        \n",
    "    \n",
    "    i = i + jump        "
   ]
  },
  {
   "cell_type": "code",
   "execution_count": 69,
   "metadata": {},
   "outputs": [],
   "source": [
    "# encode_char is a list of the type :\n",
    "# [0, some character] and [Window Position, Match Length]\n",
    "\n",
    "# When converted to string and written in a .txt file, we can't distinguish between P, L tuple\n",
    "# The Flag bit for the [F,P,L] tuple has been removed, since it is redundant and not needed for sequential decoding\n",
    "\n",
    "# NOTE : [P,L] by default will be in [1,2,.........,upper limit] and those CANNOT contain 0, which helps in removing \n",
    "# decoding ambiguity that may be added in by removing the flag bit for the match tuple\n",
    "\n",
    "# Finally to be able to distinguish between P and L, when in a string, we represent [P,L] tuple using [E,P,L]\n",
    "# where E is a prefix that specifies how long (length) P and L will be\n",
    "\n",
    "# A minimal representation is simply to do the following :\n",
    "# P can have length in the range [1,2,3,4,5]     (Window = 99999)\n",
    "# L can have length in the range [1,2,3,4,5]     (Maximum Match Length = 99999)\n",
    "\n",
    "# Thus we have 5 x 5 = 25 combinations for them\n",
    "\n",
    "# To represent them, we consider the length of P as P' and length of L as L'\n",
    "\n",
    "# Thus combinations of (P',L') possible are :\n",
    "\n",
    "#          (1,1)       1        A                    \n",
    "#          (1,2)       2        B\n",
    "#          (1,3)       3        C\n",
    "#          (1,4)       4        D\n",
    "#          (1,5)       5        E\n",
    "#          (2,1)       6        F                           (the middle column = L' + 5*(P'-1))\n",
    "#            .         .        .\n",
    "#            .         .        .\n",
    "#            .         .        .\n",
    "#            .         .        .\n",
    "#          (5,5)       25       Y\n",
    "\n",
    "\n",
    "# Also, we assume that decoder 'knows' this representation, it makes sense to assume this in our encoding/decoding \n",
    "# environment. Thus we use E to be in the set {A,B,.........,Y}\n",
    "\n",
    "# Decoder knows this representation.\n",
    "\n",
    "# Using this strategy, we display the final text file"
   ]
  },
  {
   "cell_type": "code",
   "execution_count": 70,
   "metadata": {},
   "outputs": [],
   "source": [
    "length_list = ['A','B','C','D','E','F','G','H','I','J','K','L','M','N','O','P','Q','R','S','T','U','V','W','X','Y']\n",
    "\n",
    "# decoder knows this, and knows that this is how encoding has been done, obviously, for our current system"
   ]
  },
  {
   "cell_type": "code",
   "execution_count": 71,
   "metadata": {},
   "outputs": [],
   "source": [
    "encode_char_new = encode_char.copy()                     \n",
    "i = 2\n",
    "while (i <= len(encode_char)-1):\n",
    "    \n",
    "    if encode_char[i] == 0:\n",
    "        i = i+2\n",
    "    else:\n",
    "        len_pos_num = len(str(encode_char[i]))\n",
    "        len_match_num = len(str(encode_char[i+1]))\n",
    "        indexer = len_match_num + 5*(len_pos_num-1) - 1                                # as explained in comments\n",
    "        encode_char_new[i] = str(length_list[indexer]) + str(encode_char[i])\n",
    "        encode_char_new[i+1] = str(encode_char[i+1])\n",
    "        i = i+2"
   ]
  },
  {
   "cell_type": "code",
   "execution_count": 72,
   "metadata": {},
   "outputs": [
    {
     "name": "stdout",
     "output_type": "stream",
     "text": [
      "[0, 'E', 0, 'T', 0, 'A', 0, 'T', 0, 'I', 0, ' ', 0, 'R', 0, 'E', 0, 'G', 523, 3, 0, '\\n', 0, '\\n', 0, 'a', 0, ' ', 0, 'S', 0, 'e', 0, 'r', 0, 'e', 0, 'n', 0, 'i', 899, 3, 0, 'm', 0, 'o', 0, '\\n', 0, '\\n', 0, 'R', 0, 'E', 0, 'G', 0, 'E', 0, ' ', 0, 'C', 0, 'A', 0, 'R', 0, 'O', 0, 'L', 0, 'O', 0, ' ', 0, 'I', 108, 4, 0, 'A', 0, 'D', 582, 12, 0, 'A', 0, 'M', 1297, 4, 0, 'M', 0, 'O', 0, 'V', 0, 'E', 0, 'N', 0, 'D', 0, 'A', 0, 'M', 0, '\\n', 0, '\\n', 0, 'F', 0, 'U', 8, 3, 0, 'T', 0, 'Æ', 0, ',', 0, '\\n', 0, '\\n', 0, 'E', 0, 'T', 0, ' ', 0, 'A', 0, 'U', 0, 'S', 0, 'P', 0, 'I', 0, 'C', 0, 'I', 608, 5, 0, 'O', 0, 'T', 0, 'E', 0, 'N', 0, 'T', 0, 'I', 118, 4, 0, 'I', 0, ' ', 0, 'M', 0, 'O', 0, 'N', 0, 'A', 0, 'R', 0, 'C', 0, 'H', 127, 3, 0, 'J', 0, 'A', 0, 'C', 0, 'O', 0, 'B', 0, 'I', 0, ' ', 89, 5, 0, 'F', 0, 'L', 0, 'O', 0, 'R', 0, 'E', 36, 3, 11, 3, 0, 'T', 0, 'r', 0, 'a', 0, 'c', 0, 't', 0, 'a', 0, 't', 0, 'u', 0, 'm', 0, ' ', 0, 'h', 0, 'u', 0, 'n', 0, 'c', 0, ' ', 5, 2, 0, 'm', 0, 'i', 0, 'l', 0, 'l', 0, 'i', 0, 'm', 0, 'e', 0, ' ', 0, '_', 0, 'D', 0, '.', 2, 4, 350, 3, 615, 11, 420, 47, 490, 3, 0, 'F', 241, 3, 0, 'O', 203, 6, 0, 'L', 0, 'E', 0, 'C', 0, 'T', 120, 3, 0, 'M', 506, 4, 0, 'C', 113, 3, 0, 'V', 0, 'e', 0, 't', 255, 3, 412, 3, 0, 'M', 0, 'e', 0, 'c', 0, 'h', 0, 'a', 0, 'n', 0, 'i', 0, 'c', 0, 'a', 0, 'm', 0, '_', 0, ' ', 0, '(', 0, 'u', 0, 't', 0, 'i', 0, ' ', 1631, 6, 0, ' ', 0, 'e', 0, 's', 0, 't', 0, ' ', 0, '_', 0, 'P', 0, 'a', 0, 'p', 0, 'p', 0, 'u', 0, 's', 0, '_', 0, ')', 962, 4, 0, 'v', 0, 'e', 0, 'r', 56, 3, 1694, 8, 0, 'u', 0, 'm', 0, '\\n', 0, 'i', 0, 'n', 0, 'v', 0, 'e', 951, 3, 0, 'g', 0, 'a', 1903, 4, 0, 'e', 0, ' ', 0, 'm', 0, 'a', 0, 'x', 0, 'i', 0, 'm', 0, 'i', 0, ' ', 0, 'f', 0, 'e', 0, 'c', 0, 'e', 780, 3, 0, 't', 0, ',', 0, ' ', 0, '&', 0, ' ', 0, 'r', 0, 'e', 0, 'c', 0, 'e', 0, 'n', 30, 3, 105, 3, 0, ',', 0, ' ', 0, 'm', 0, 'i', 363, 3, 2016, 5, 10, 3, 0, '\\n', 0, 's', 0, 'u', 0, 'b', 512, 3, 29, 3, 76, 3, 0, 'b', 0, 'u', 0, 's', 0, ' ', 0, '&']\n",
      "[0, 'E', 0, 'T', 0, 'A', 0, 'T', 0, 'I', 0, ' ', 0, 'R', 0, 'E', 0, 'G', 'K523', '3', 0, '\\n', 0, '\\n', 0, 'a', 0, ' ', 0, 'S', 0, 'e', 0, 'r', 0, 'e', 0, 'n', 0, 'i', 'K899', '3', 0, 'm', 0, 'o', 0, '\\n', 0, '\\n', 0, 'R', 0, 'E', 0, 'G', 0, 'E', 0, ' ', 0, 'C', 0, 'A', 0, 'R', 0, 'O', 0, 'L', 0, 'O', 0, ' ', 0, 'I', 'K108', '4', 0, 'A', 0, 'D', 'L582', '12', 0, 'A', 0, 'M', 'P1297', '4', 0, 'M', 0, 'O', 0, 'V', 0, 'E', 0, 'N', 0, 'D', 0, 'A', 0, 'M', 0, '\\n', 0, '\\n', 0, 'F', 0, 'U', 'A8', '3', 0, 'T', 0, 'Æ', 0, ',', 0, '\\n', 0, '\\n', 0, 'E', 0, 'T', 0, ' ', 0, 'A', 0, 'U', 0, 'S', 0, 'P', 0, 'I', 0, 'C', 0, 'I', 'K608', '5', 0, 'O', 0, 'T', 0, 'E', 0, 'N', 0, 'T', 0, 'I', 'K118', '4', 0, 'I', 0, ' ', 0, 'M', 0, 'O', 0, 'N', 0, 'A', 0, 'R', 0, 'C', 0, 'H', 'K127', '3', 0, 'J', 0, 'A', 0, 'C', 0, 'O', 0, 'B', 0, 'I', 0, ' ', 'F89', '5', 0, 'F', 0, 'L', 0, 'O', 0, 'R', 0, 'E', 'F36', '3', 'F11', '3', 0, 'T', 0, 'r', 0, 'a', 0, 'c', 0, 't', 0, 'a', 0, 't', 0, 'u', 0, 'm', 0, ' ', 0, 'h', 0, 'u', 0, 'n', 0, 'c', 0, ' ', 'A5', '2', 0, 'm', 0, 'i', 0, 'l', 0, 'l', 0, 'i', 0, 'm', 0, 'e', 0, ' ', 0, '_', 0, 'D', 0, '.', 'A2', '4', 'K350', '3', 'L615', '11', 'L420', '47', 'K490', '3', 0, 'F', 'K241', '3', 0, 'O', 'K203', '6', 0, 'L', 0, 'E', 0, 'C', 0, 'T', 'K120', '3', 0, 'M', 'K506', '4', 0, 'C', 'K113', '3', 0, 'V', 0, 'e', 0, 't', 'K255', '3', 'K412', '3', 0, 'M', 0, 'e', 0, 'c', 0, 'h', 0, 'a', 0, 'n', 0, 'i', 0, 'c', 0, 'a', 0, 'm', 0, '_', 0, ' ', 0, '(', 0, 'u', 0, 't', 0, 'i', 0, ' ', 'P1631', '6', 0, ' ', 0, 'e', 0, 's', 0, 't', 0, ' ', 0, '_', 0, 'P', 0, 'a', 0, 'p', 0, 'p', 0, 'u', 0, 's', 0, '_', 0, ')', 'K962', '4', 0, 'v', 0, 'e', 0, 'r', 'F56', '3', 'P1694', '8', 0, 'u', 0, 'm', 0, '\\n', 0, 'i', 0, 'n', 0, 'v', 0, 'e', 'K951', '3', 0, 'g', 0, 'a', 'P1903', '4', 0, 'e', 0, ' ', 0, 'm', 0, 'a', 0, 'x', 0, 'i', 0, 'm', 0, 'i', 0, ' ', 0, 'f', 0, 'e', 0, 'c', 0, 'e', 'K780', '3', 0, 't', 0, ',', 0, ' ', 0, '&', 0, ' ', 0, 'r', 0, 'e', 0, 'c', 0, 'e', 0, 'n', 'F30', '3', 'K105', '3', 0, ',', 0, ' ', 0, 'm', 0, 'i', 'K363', '3', 'P2016', '5', 'F10', '3', 0, '\\n', 0, 's', 0, 'u', 0, 'b', 'K512', '3', 'F29', '3', 'F76', '3', 0, 'b', 0, 'u', 0, 's', 0, ' ', 0, '&']\n"
     ]
    }
   ],
   "source": [
    "print(encode_char[2000:2500])                  # Flag, Position and Length integers in the list (characters unencoded are strings)\n",
    "print(encode_char_new[2000:2500])              # Flag as integer in list, rest all is a string in the list "
   ]
  },
  {
   "cell_type": "code",
   "execution_count": 73,
   "metadata": {},
   "outputs": [],
   "source": [
    "final_str_new = ''\n",
    "\n",
    "for i in encode_char_new:\n",
    "    final_str_new = final_str_new + str(i)"
   ]
  },
  {
   "cell_type": "code",
   "execution_count": 74,
   "metadata": {},
   "outputs": [],
   "source": [
    "f_write_test = open('Encoded_Final.txt','w',encoding = 'utf-8-sig')\n",
    "f_write_test.write(final_str_new)\n",
    "f_write_test.close()"
   ]
  }
 ],
 "metadata": {
  "kernelspec": {
   "display_name": "Python 3",
   "language": "python",
   "name": "python3"
  },
  "language_info": {
   "codemirror_mode": {
    "name": "ipython",
    "version": 3
   },
   "file_extension": ".py",
   "mimetype": "text/x-python",
   "name": "python",
   "nbconvert_exporter": "python",
   "pygments_lexer": "ipython3",
   "version": "3.7.6"
  }
 },
 "nbformat": 4,
 "nbformat_minor": 4
}
