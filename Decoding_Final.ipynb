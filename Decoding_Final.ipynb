{
 "cells": [
  {
   "cell_type": "code",
   "execution_count": 17,
   "metadata": {},
   "outputs": [],
   "source": [
    "import numpy as np\n",
    "import math\n",
    "\n",
    "f = open('Encoded_Final.txt','r', encoding = 'utf-8-sig')\n",
    "content = f.read()\n",
    "f.close()\n",
    "encoded_list = list(content)                                  # contains encoded data in list like format"
   ]
  },
  {
   "cell_type": "code",
   "execution_count": 18,
   "metadata": {},
   "outputs": [],
   "source": [
    "# Converting the encoded list into a list with the actual LZ format, that is, converting into :\n",
    "# Tuple of form [0,char] and [P,L]\n",
    "\n",
    "# We will thus, finally get a list of the following form :\n",
    "\n",
    "# [0,char,P,L,P,L,0,char,...............]\n",
    "\n",
    "# Here only the char unencoded will be in a string format, rest all will be an integer\n",
    "\n",
    "# After getting this list we will then decode it"
   ]
  },
  {
   "cell_type": "code",
   "execution_count": 19,
   "metadata": {},
   "outputs": [],
   "source": [
    "to_decode_list = []\n",
    "length_list = ['A','B','C','D','E','F','G','H','I','J','K','L','M','N','O','P','Q','R','S','T','U','V','W','X','Y']\n",
    "length_list_array = np.array(length_list)\n",
    "# as has been described before, length_list is something the decoder knows, or the decoder knows that the \n",
    "# encoder used while encoding\n",
    "\n",
    "# L' = (index in length_list % 5) + 1                                      (indexing is natural Python indexing from 0)\n",
    "# P' = ((index in length_list + 1) - L')/5 + 1\n",
    "\n",
    "\n",
    "i = 0\n",
    "while (i <= len(encoded_list)-1):\n",
    "    \n",
    "    if encoded_list[i] == '0':\n",
    "        to_decode_list.append(0)\n",
    "        to_decode_list.append(encoded_list[i+1])\n",
    "        jump = 2\n",
    "        \n",
    "    else:\n",
    "        indexer = np.argmax(length_list_array==encoded_list[i])         # returns match index\n",
    "        len_spec = int((indexer % 5)) + 1\n",
    "        pos_spec = int((((indexer + 1) - len_spec)/5)) + 1\n",
    "        \n",
    "        pos_string = ''\n",
    "        for j in np.arange(i+1,i+pos_spec+1):\n",
    "            pos_string = pos_string + str(encoded_list[j])\n",
    "        pos_int = int(pos_string)\n",
    "        to_decode_list.append(pos_int)\n",
    "        \n",
    "        len_string = ''\n",
    "        for k in np.arange(i+pos_spec+1,i+pos_spec+len_spec+1):\n",
    "            len_string = len_string + str(encoded_list[k])\n",
    "        len_int = int(len_string)\n",
    "        to_decode_list.append(len_int)\n",
    "        \n",
    "        jump = pos_spec+len_spec+1\n",
    "        \n",
    "    i = i + jump"
   ]
  },
  {
   "cell_type": "code",
   "execution_count": 20,
   "metadata": {},
   "outputs": [
    {
     "name": "stdout",
     "output_type": "stream",
     "text": [
      "[0, 'E', 0, 'T', 0, 'A', 0, 'T', 0, 'I', 0, ' ', 0, 'R', 0, 'E', 0, 'G', 523, 3, 0, '\\n', 0, '\\n', 0, 'a', 0, ' ', 0, 'S', 0, 'e', 0, 'r', 0, 'e', 0, 'n', 0, 'i', 899, 3, 0, 'm', 0, 'o', 0, '\\n', 0, '\\n', 0, 'R', 0, 'E', 0, 'G', 0, 'E', 0, ' ', 0, 'C', 0, 'A', 0, 'R', 0, 'O', 0, 'L', 0, 'O', 0, ' ', 0, 'I', 108, 4, 0, 'A', 0, 'D', 582, 12, 0, 'A', 0, 'M', 1297, 4, 0, 'M', 0, 'O', 0, 'V', 0, 'E', 0, 'N', 0, 'D', 0, 'A', 0, 'M', 0, '\\n', 0, '\\n', 0, 'F', 0, 'U', 8, 3, 0, 'T', 0, 'Æ', 0, ',', 0, '\\n', 0, '\\n', 0, 'E', 0, 'T', 0, ' ', 0, 'A', 0, 'U', 0, 'S', 0, 'P', 0, 'I', 0, 'C', 0, 'I', 608, 5, 0, 'O', 0, 'T', 0, 'E', 0, 'N', 0, 'T', 0, 'I', 118, 4, 0, 'I', 0, ' ', 0, 'M', 0, 'O', 0, 'N', 0, 'A', 0, 'R', 0, 'C', 0, 'H', 127, 3, 0, 'J', 0, 'A', 0, 'C', 0, 'O', 0, 'B', 0, 'I', 0, ' ', 89, 5, 0, 'F', 0, 'L', 0, 'O', 0, 'R', 0, 'E', 36, 3, 11, 3, 0, 'T', 0, 'r', 0, 'a', 0, 'c', 0, 't', 0, 'a', 0, 't', 0, 'u', 0, 'm', 0, ' ', 0, 'h', 0, 'u', 0, 'n', 0, 'c', 0, ' ', 5, 2, 0, 'm', 0, 'i', 0, 'l', 0, 'l', 0, 'i', 0, 'm', 0, 'e', 0, ' ', 0, '_', 0, 'D', 0, '.', 2, 4, 350, 3, 615, 11, 420, 47, 490, 3, 0, 'F', 241, 3, 0, 'O', 203, 6, 0, 'L', 0, 'E', 0, 'C', 0, 'T', 120, 3, 0, 'M', 506, 4, 0, 'C', 113, 3, 0, 'V', 0, 'e', 0, 't', 255, 3, 412, 3, 0, 'M', 0, 'e', 0, 'c', 0, 'h', 0, 'a', 0, 'n', 0, 'i', 0, 'c', 0, 'a', 0, 'm', 0, '_', 0, ' ', 0, '(', 0, 'u', 0, 't', 0, 'i', 0, ' ', 1631, 6, 0, ' ', 0, 'e', 0, 's', 0, 't', 0, ' ', 0, '_', 0, 'P', 0, 'a', 0, 'p', 0, 'p', 0, 'u', 0, 's', 0, '_', 0, ')', 962, 4, 0, 'v', 0, 'e', 0, 'r', 56, 3, 1694, 8, 0, 'u', 0, 'm', 0, '\\n', 0, 'i', 0, 'n', 0, 'v', 0, 'e', 951, 3, 0, 'g', 0, 'a', 1903, 4, 0, 'e', 0, ' ', 0, 'm', 0, 'a', 0, 'x', 0, 'i', 0, 'm', 0, 'i', 0, ' ', 0, 'f', 0, 'e', 0, 'c', 0, 'e', 780, 3, 0, 't', 0, ',', 0, ' ', 0, '&', 0, ' ', 0, 'r', 0, 'e', 0, 'c', 0, 'e', 0, 'n', 30, 3, 105, 3, 0, ',', 0, ' ', 0, 'm', 0, 'i', 363, 3, 2016, 5, 10, 3, 0, '\\n', 0, 's', 0, 'u', 0, 'b', 512, 3, 29, 3, 76, 3, 0, 'b', 0, 'u', 0, 's', 0, ' ', 0, '&']\n"
     ]
    }
   ],
   "source": [
    "print(to_decode_list[2000:2500])"
   ]
  },
  {
   "cell_type": "code",
   "execution_count": 21,
   "metadata": {},
   "outputs": [],
   "source": [
    "# to_decode_list contains tuples of [0,char] and [P,L] in a list form, where 0,P,L are integers and char is string\n",
    "\n",
    "# We can use now to_decode_list for our decoding using LZ decoding"
   ]
  },
  {
   "cell_type": "code",
   "execution_count": 22,
   "metadata": {},
   "outputs": [],
   "source": [
    "# Decoding on to_decode_list\n",
    "\n",
    "final_decoded_list = []\n",
    "\n",
    "i = 0\n",
    "while (i <= len(to_decode_list)-1):\n",
    "    \n",
    "    if to_decode_list[i] == 0:\n",
    "        final_decoded_list.append(to_decode_list[i+1])\n",
    "        jump = 2\n",
    "        \n",
    "    else:\n",
    "        current_decoded_length = len(final_decoded_list)\n",
    "        window_pos = to_decode_list[i]\n",
    "        match_len = to_decode_list[i+1]\n",
    "        for j in np.arange(current_decoded_length-window_pos,current_decoded_length-window_pos+match_len):\n",
    "            final_decoded_list.append(final_decoded_list[j])\n",
    "        jump = 2\n",
    "        \n",
    "    i = i + jump"
   ]
  },
  {
   "cell_type": "code",
   "execution_count": 23,
   "metadata": {},
   "outputs": [
    {
     "name": "stdout",
     "output_type": "stream",
     "text": [
      "['e', 'B', 'o', 'o', 'k', ' ', 'i', 's', ' ', 'f', 'o', 'r', ' ', 't', 'h', 'e', ' ', 'u', 's', 'e', ' ', 'o', 'f', ' ', 'a', 'n', 'y', 'o', 'n', 'e', ' ', 'a', 'n', 'y', 'w', 'h', 'e', 'r', 'e', ' ', 'a', 't', ' ', 'n', 'o', ' ', 'c', 'o', 's', 't', ' ', 'a', 'n', 'd', ' ', 'w', 'i', 't', 'h', '\\n', 'a', 'l', 'm', 'o', 's', 't', ' ', 'n', 'o', ' ', 'r', 'e', 's', 't', 'r', 'i', 'c', 't', 'i', 'o', 'n', 's', ' ', 'w', 'h', 'a', 't', 's', 'o', 'e', 'v', 'e', 'r', '.', ' ', ' ', 'Y', 'o', 'u', ' ']\n"
     ]
    }
   ],
   "source": [
    "print(final_decoded_list[100:200])"
   ]
  },
  {
   "cell_type": "code",
   "execution_count": 24,
   "metadata": {},
   "outputs": [],
   "source": [
    "# final_decoded_list contains the final decoded list\n",
    "# we convert it into a string\n",
    "\n",
    "final_decoded_str = ''\n",
    "for i in final_decoded_list:\n",
    "    final_decoded_str = final_decoded_str + str(i)"
   ]
  },
  {
   "cell_type": "code",
   "execution_count": 25,
   "metadata": {},
   "outputs": [],
   "source": [
    "# Is it really a lossless compression? Let's check\n",
    "# We import the principia text as a string and compare if the decoded string matches the text\n",
    "\n",
    "f_check = open('principia.txt','r', encoding = 'utf-8-sig')\n",
    "actual_txt = f_check.read()\n",
    "f_check.close()   "
   ]
  },
  {
   "cell_type": "code",
   "execution_count": 26,
   "metadata": {},
   "outputs": [
    {
     "name": "stdout",
     "output_type": "stream",
     "text": [
      "Yes, the compression is lossless\n"
     ]
    }
   ],
   "source": [
    "if actual_txt == final_decoded_str:\n",
    "    print('Yes, the compression is lossless')\n",
    "else:\n",
    "    print('Compression not totally lossless')"
   ]
  },
  {
   "cell_type": "code",
   "execution_count": 27,
   "metadata": {},
   "outputs": [],
   "source": [
    "# As seen above, the compression is lossless, and we have perfectly decoded the text"
   ]
  },
  {
   "cell_type": "code",
   "execution_count": 28,
   "metadata": {},
   "outputs": [],
   "source": [
    "# Writing the decoded string to a text\n",
    "\n",
    "f_dec = open('Decoded_Final.txt','w',encoding='utf-8-sig')\n",
    "f_dec.write(final_decoded_str)\n",
    "f_dec.close()"
   ]
  },
  {
   "cell_type": "code",
   "execution_count": 29,
   "metadata": {},
   "outputs": [],
   "source": [
    "# Decoded_Final contains final decoded text, precisely same as what we originally had"
   ]
  }
 ],
 "metadata": {
  "kernelspec": {
   "display_name": "Python 3",
   "language": "python",
   "name": "python3"
  },
  "language_info": {
   "codemirror_mode": {
    "name": "ipython",
    "version": 3
   },
   "file_extension": ".py",
   "mimetype": "text/x-python",
   "name": "python",
   "nbconvert_exporter": "python",
   "pygments_lexer": "ipython3",
   "version": "3.7.6"
  }
 },
 "nbformat": 4,
 "nbformat_minor": 4
}
